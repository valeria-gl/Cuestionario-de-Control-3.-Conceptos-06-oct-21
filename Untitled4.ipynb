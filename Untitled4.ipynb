{
  "nbformat": 4,
  "nbformat_minor": 0,
  "metadata": {
    "colab": {
      "name": "Untitled4.ipynb",
      "provenance": [],
      "authorship_tag": "ABX9TyMWmPMcx4nTB7f0eNwZvJSL",
      "include_colab_link": true
    },
    "kernelspec": {
      "name": "python3",
      "display_name": "Python 3"
    },
    "language_info": {
      "name": "python"
    }
  },
  "cells": [
    {
      "cell_type": "markdown",
      "metadata": {
        "id": "view-in-github",
        "colab_type": "text"
      },
      "source": [
        "<a href=\"https://colab.research.google.com/github/valeria-gl/Cuestionario-de-Control-3.-Conceptos-06-oct-21/blob/main/Untitled4.ipynb\" target=\"_parent\"><img src=\"https://colab.research.google.com/assets/colab-badge.svg\" alt=\"Open In Colab\"/></a>"
      ]
    },
    {
      "cell_type": "code",
      "metadata": {
        "id": "KwNPfNzFeT52"
      },
      "source": [
        "class nodo:\n",
        "  def __init__(self,value,siguiente = None):\n",
        "    self.data = value\n",
        "    self.next = siguiente"
      ],
      "execution_count": 38,
      "outputs": []
    },
    {
      "cell_type": "code",
      "metadata": {
        "colab": {
          "base_uri": "https://localhost:8080/"
        },
        "id": "F-IM_vvOeS43",
        "outputId": "b4b3564e-2134-4e84-92c0-41643a6ffc9d"
      },
      "source": [
        "head = nodo(30)\n",
        "print(head.data)\n",
        "print(head.next)"
      ],
      "execution_count": 39,
      "outputs": [
        {
          "output_type": "stream",
          "name": "stdout",
          "text": [
            "30\n",
            "None\n"
          ]
        }
      ]
    },
    {
      "cell_type": "code",
      "metadata": {
        "colab": {
          "base_uri": "https://localhost:8080/"
        },
        "id": "J_85uDyPeTGv",
        "outputId": "44d964cb-3f00-4358-ec52-f8a353ac4991"
      },
      "source": [
        "punto_entrada = nodo(20)\n",
        "punto_entrada = nodo(15)\n",
        "\n",
        "print(head.data)\n",
        "print(head.data)\n",
        "\n",
        "print(\"Método de recursividad\")\n",
        "\n",
        "punto_entrada = nodo(20,nodo(15))\n",
        "print(punto_entrada.data)\n",
        "print(punto_entrada.next.data)"
      ],
      "execution_count": 40,
      "outputs": [
        {
          "output_type": "stream",
          "name": "stdout",
          "text": [
            "30\n",
            "30\n",
            "Método de recursividad\n",
            "20\n",
            "15\n"
          ]
        }
      ]
    }
  ]
}